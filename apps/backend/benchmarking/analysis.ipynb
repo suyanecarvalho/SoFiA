{
 "cells": [
  {
   "cell_type": "markdown",
   "metadata": {},
   "source": [
    "# Visualização dos Resultados do Benchmark de LLMs\n",
    "\n",
    "Este notebook tem como objetivo analisar e visualizar os resultados gerados pelo script `run_benchmark.py`. Ele carrega o arquivo `benchmark_results.csv` e cria uma série de gráficos para comparar o desempenho dos diferentes modelos de linguagem em termos de **pontuação (acurácia)** e **velocidade (duração)**."
   ],
   "id": "b81a5856cd1b6038"
  },
  {
   "cell_type": "markdown",
   "metadata": {},
   "source": [
    "### Seção 1: Configuração e Carregamento dos Dados\n",
    "\n",
    "Primeiro, vamos importar as bibliotecas necessárias, definir o estilo dos gráficos e carregar os dados do arquivo CSV para um DataFrame do Pandas."
   ],
   "id": "bd472326966c7744"
  },
  {
   "cell_type": "code",
   "metadata": {},
   "source": [
    "import pandas as pd\n",
    "import matplotlib.pyplot as plt\n",
    "import seaborn as sns\n",
    "import os\n",
    "\n",
    "# Define um estilo visual mais agradável para os gráficos\n",
    "sns.set_theme(style=\"whitegrid\")\n",
    "\n",
    "# --- CONFIGURAÇÃO ---\n",
    "# Altere o nome do arquivo se o seu for diferente\n",
    "caminho_arquivo = 'benchmark_results.csv'\n",
    "\n",
    "# Verifica se o arquivo existe antes de carregar\n",
    "if not os.path.exists(caminho_arquivo):\n",
    "    print(f\"Erro: O arquivo '{caminho_arquivo}' não foi encontrado.\")\n",
    "    print(\"Por favor, execute o benchmark primeiro ou verifique o caminho do arquivo.\")\n",
    "else:\n",
    "    # Carrega os resultados do benchmark\n",
    "    df = pd.read_csv(caminho_arquivo)\n",
    "    \n",
    "    # Exibe as primeiras linhas e informações sobre o DataFrame\n",
    "    print(\"Dados carregados com sucesso!\")\n",
    "    print(\"\\n--- Primeiras 5 linhas ---\")\n",
    "    display(df.head())\n",
    "    \n",
    "    print(\"\\n--- Informações do DataFrame ---\")\n",
    "    df.info()"
   ],
   "id": "95276a439f122ceb",
   "outputs": [],
   "execution_count": null
  },
  {
   "cell_type": "markdown",
   "metadata": {},
   "source": [
    "#### Engenharia de Atributos\n",
    "\n",
    "A coluna `test_case_id` contém o tipo de tarefa (`get` ou `insert`). Vamos extrair essa informação para uma nova coluna chamada `tipo_tarefa` para facilitar análises futuras."
   ],
   "id": "c3ff02338fe4a7f1"
  },
  {
   "cell_type": "code",
   "metadata": {},
   "source": [
    "if 'df' in locals():\n",
    "    # Extrai 'get' ou 'insert' do ID do caso de teste\n",
    "    df['tipo_tarefa'] = df['test_case_id'].apply(lambda x: 'get' if 'get' in x else 'insert')\n",
    "    \n",
    "    print(\"Coluna 'tipo_tarefa' criada com sucesso.\")\n",
    "    display(df.head())"
   ],
   "id": "1a3e6e70b04c6f28",
   "outputs": [],
   "execution_count": null
  },
  {
   "cell_type": "markdown",
   "metadata": {},
   "source": [
    "### Seção 2: Visão Geral do Desempenho\n",
    "\n",
    "Nesta seção, criamos gráficos que resumem o desempenho geral de cada modelo, fornecendo uma visão macro da pontuação e velocidade."
   ],
   "id": "e0f27f65fd9bc309"
  },
  {
   "cell_type": "code",
   "metadata": {},
   "source": [
    "# Gráfico 1: Pontuação Média Geral por Modelo\n",
    "if 'df' in locals():\n",
    "    plt.figure(figsize=(12, 6))\n",
    "    ax = sns.barplot(data=df, x='model_name', y='score', ci=None, estimator=pd.np.mean, palette='viridis')\n",
    "    \n",
    "    plt.title('Pontuação Média Geral por Modelo', fontsize=16, fontweight='bold')\n",
    "    plt.xlabel('Modelo', fontsize=12)\n",
    "    plt.ylabel('Pontuação Média', fontsize=12)\n",
    "    plt.xticks(rotation=45, ha='right')\n",
    "    plt.tight_layout()\n",
    "    plt.show()"
   ],
   "id": "7ca44b3f2f810da1",
   "outputs": [],
   "execution_count": null
  },
  {
   "cell_type": "code",
   "metadata": {},
   "source": [
    "# Gráfico 2: Duração Média (Velocidade) por Modelo\n",
    "if 'df' in locals():\n",
    "    plt.figure(figsize=(12, 6))\n",
    "    sns.barplot(data=df, x='model_name', y='duration_seconds', ci=None, estimator=pd.np.mean, palette='plasma')\n",
    "    \n",
    "    plt.title('Duração Média (Velocidade) por Modelo', fontsize=16, fontweight='bold')\n",
    "    plt.xlabel('Modelo', fontsize=12)\n",
    "    plt.ylabel('Duração Média (segundos)', fontsize=12)\n",
    "    plt.xticks(rotation=45, ha='right')\n",
    "    plt.tight_layout()\n",
    "    plt.show()"
   ],
   "id": "20477070d8412e94",
   "outputs": [],
   "execution_count": null
  },
  {
   "cell_type": "markdown",
   "metadata": {},
   "source": [
    "### Seção 3: Análise de Eficiência (Pontuação vs. Velocidade)\n",
    "\n",
    "Um bom modelo não é apenas preciso, mas também rápido. O gráfico de dispersão abaixo nos ajuda a visualizar o trade-off entre pontuação e velocidade. O modelo ideal estaria no quadrante superior esquerdo (alta pontuação, baixa duração)."
   ],
   "id": "5b9186bc8811abd3"
  },
  {
   "cell_type": "code",
   "metadata": {},
   "source": [
    "# Gráfico 3: Gráfico de Dispersão - Pontuação vs. Duração\n",
    "if 'df' in locals():\n",
    "    # Calcula as médias para cada modelo\n",
    "    summary_df = df.groupby('model_name').agg(\n",
    "        avg_score=('score', 'mean'),\n",
    "        avg_duration=('duration_seconds', 'mean')\n",
    "    ).reset_index()\n",
    "\n",
    "    plt.figure(figsize=(12, 8))\n",
    "    sns.scatterplot(data=summary_df, x='avg_duration', y='avg_score', hue='model_name', s=200, palette='deep')\n",
    "\n",
    "    # Adiciona rótulos para cada ponto\n",
    "    for i in range(summary_df.shape[0]):\n",
    "        plt.text(x=summary_df.avg_duration[i]+0.01, y=summary_df.avg_score[i],\n",
    "                 s=summary_df.model_name[i], fontdict=dict(color='black', size=10))\n",
    "\n",
    "    plt.title('Gráfico de Eficiência: Pontuação Média vs. Duração Média', fontsize=16, fontweight='bold')\n",
    "    plt.xlabel('Duração Média (segundos) - Mais rápido →', fontsize=12)\n",
    "    plt.ylabel('Pontuação Média - Melhor →', fontsize=12)\n",
    "    plt.legend(title='Modelos', bbox_to_anchor=(1.05, 1), loc='upper left')\n",
    "    \n",
    "    # Adiciona uma anotação sobre o quadrante ideal\n",
    "    plt.annotate('Quadrante Ideal\\n(Alta Pontuação, Baixa Duração)', \n",
    "                 xy=(summary_df.avg_duration.min(), summary_df.avg_score.max()), \n",
    "                 xytext=(summary_df.avg_duration.min()*1.5, summary_df.avg_score.max()*0.9), \n",
    "                 arrowprops=dict(facecolor='black', shrink=0.05),\n",
    "                 fontsize=12, backgroundcolor='lightyellow')\n",
    "\n",
    "    plt.tight_layout()\n",
    "    plt.show()"
   ],
   "id": "5090473cfef6ad1d",
   "outputs": [],
   "execution_count": null
  },
  {
   "cell_type": "markdown",
   "metadata": {},
   "source": [
    "### Seção 4: Análise Detalhada do Desempenho\n",
    "\n",
    "Agora, vamos aprofundar a análise, segmentando o desempenho dos modelos por nível de dificuldade, consistência e tipo de tarefa."
   ],
   "id": "c6fde552257ab57"
  },
  {
   "cell_type": "code",
   "metadata": {},
   "source": [
    "# Gráfico 4: Desempenho por Nível de Dificuldade\n",
    "if 'df' in locals():\n",
    "    plt.figure(figsize=(14, 7))\n",
    "    sns.barplot(data=df, x='model_name', y='score', hue='difficulty',\n",
    "                hue_order=['easy', 'medium', 'hard'], palette='coolwarm')\n",
    "    \n",
    "    plt.title('Desempenho por Nível de Dificuldade', fontsize=16, fontweight='bold')\n",
    "    plt.xlabel('Modelo', fontsize=12)\n",
    "    plt.ylabel('Pontuação Média', fontsize=12)\n",
    "    plt.xticks(rotation=45, ha='right')\n",
    "    plt.legend(title='Dificuldade')\n",
    "    plt.tight_layout()\n",
    "    plt.show()"
   ],
   "id": "8550b38168e0ec97",
   "outputs": [],
   "execution_count": null
  },
  {
   "cell_type": "markdown",
   "metadata": {},
   "source": [
    "O gráfico de caixas (boxplot) abaixo mostra a distribuição das pontuações para cada modelo. Ele é excelente para avaliar a **consistência**. Um modelo com uma caixa curta e poucos pontos fora (outliers) é mais consistente e previsível do que um com uma caixa longa."
   ],
   "id": "fa6b7780b8b75cd8"
  },
  {
   "cell_type": "code",
   "metadata": {},
   "source": [
    "# Gráfico 5: Consistência do Desempenho (Box Plot)\n",
    "if 'df' in locals():\n",
    "    plt.figure(figsize=(14, 7))\n",
    "    sns.boxplot(data=df, x='model_name', y='score', palette='pastel')\n",
    "    \n",
    "    plt.title('Consistência do Desempenho (Distribuição de Pontuações)', fontsize=16, fontweight='bold')\n",
    "    plt.xlabel('Modelo', fontsize=12)\n",
    "    plt.ylabel('Pontuação', fontsize=12)\n",
    "    plt.xticks(rotation=45, ha='right')\n",
    "    plt.tight_layout()\n",
    "    plt.show()"
   ],
   "id": "8b517808f10f4260",
   "outputs": [],
   "execution_count": null
  },
  {
   "cell_type": "code",
   "metadata": {},
   "source": [
    "# Gráfico 6: Desempenho por Tipo de Tarefa (Get vs. Insert)\n",
    "if 'df' in locals():\n",
    "    plt.figure(figsize=(14, 7))\n",
    "    sns.barplot(data=df, x='model_name', y='score', hue='tipo_tarefa', palette='Set2')\n",
    "    \n",
    "    plt.title('Desempenho por Tipo de Tarefa (Get vs. Insert)', fontsize=16, fontweight='bold')\n",
    "    plt.xlabel('Modelo', fontsize=12)\n",
    "    plt.ylabel('Pontuação Média', fontsize=12)\n",
    "    plt.xticks(rotation=45, ha='right')\n",
    "    plt.legend(title='Tipo de Tarefa')\n",
    "    plt.tight_layout()\n",
    "    plt.show()"
   ],
   "id": "e5f2c0978ef26494",
   "outputs": [],
   "execution_count": null
  }
 ],
 "metadata": {
  "kernelspec": {
   "display_name": "Python 3",
   "language": "python",
   "name": "python3"
  },
  "language_info": {
   "codemirror_mode": {
    "name": "ipython",
    "version": 3
   },
   "file_extension": ".py",
   "mimetype": "text/x-python",
   "name": "python",
   "nbconvert_exporter": "python",
   "pygments_lexer": "ipython3",
   "version": "3.9.12"
  }
 },
 "nbformat": 4,
 "nbformat_minor": 4
}
